{
 "cells": [
  {
   "cell_type": "markdown",
   "id": "86abac76",
   "metadata": {},
   "source": [
    "# CSE 572: Homework 4\n",
    "\n",
    "This notebook provides a template and starting code to implement the Homework 4 assignment.\n",
    "\n",
    "To execute and make changes to this notebook, click File > Save a copy to save your own version in your Google Drive or Github. Read the step-by-step instructions below carefully. To execute the code, click on each cell below and press the SHIFT-ENTER keys simultaneously or by clicking the Play button. \n",
    "\n",
    "When you finish executing all code/exercises, save your notebook then download a copy (.ipynb file). Submit the following **three** things:\n",
    "1. a link to your Colab notebook,\n",
    "2. the .ipynb file, and\n",
    "3. a pdf of the executed notebook on Canvas.\n",
    "\n",
    "To generate a pdf of the notebook, click File > Print > Save as PDF."
   ]
  },
  {
   "cell_type": "markdown",
   "id": "25587355",
   "metadata": {},
   "source": [
    "## Problem statement\n",
    "\n",
    "In Lab 18, we used statistical and distance-based approaches to detect anomalous changes in the daily closing prices of various stocks. The input data stocks.csv contains the historical closing prices of stocks for 3 large corporations (Microsoft, Ford Motor Company, and Bank of America). In the lab, we used anomaly detection techniques to detect anomalies in the changes in daily closing prices over the entire dataset (entire time period). \n",
    "\n",
    "In this homework, you will re-frame this problem as novelty detection. Instead of scoring each sample based on its anomalousness compared to all other samples, you will score every sample based on its anomalousness compared to all previous samples in time. You will step through each record in order of time and at each step construct an updated model that will be used to score the new sample. Use the kth nearest neighbor approach used in Lab 18, but instead of using the distance to the 4th nearest neighbor as in Lab 18, use the average distance to the five nearest neighbors. "
   ]
  },
  {
   "cell_type": "markdown",
   "id": "aac02b85",
   "metadata": {},
   "source": [
    "## Load the dataset"
   ]
  },
  {
   "cell_type": "code",
   "execution_count": null,
   "id": "bdb0a8b5",
   "metadata": {},
   "outputs": [],
   "source": [
    "import pandas as pd\n",
    "\n",
    "stocks = pd.read_csv('https://docs.google.com/uc?export=download&id=1UqHZmlfSoPDcZlTIr2TB6OadBhni9Kbv', header='infer')\n",
    "stocks\n",
    "\n",
    "stocks.index = stocks['Date']\n",
    "stocks = stocks.drop(['Date'], axis=1)\n",
    "stocks.head()"
   ]
  },
  {
   "cell_type": "markdown",
   "id": "c11c2344",
   "metadata": {},
   "source": [
    "We can compute the percentage of changes in the daily closing price of each stock as follows:\n",
    "\\begin{equation}\n",
    "\\Delta(t) = 100 \\times \\frac{x_t - x_{t-1}}{x_{t-1}} \n",
    "\\end{equation}\n",
    "\n",
    "where $x_t$ denotes the price of a stock on day $t$ and $x_{t-1}$ denotes the price on its previous day, $t-1$."
   ]
  },
  {
   "cell_type": "code",
   "execution_count": null,
   "id": "72409855",
   "metadata": {},
   "outputs": [],
   "source": [
    "import numpy as np\n",
    "\n",
    "N, d = stocks.shape\n",
    "\n",
    "delta = pd.DataFrame(100*np.divide(stocks.iloc[1:,:].values-stocks.iloc[:N-1,:].values, stocks.iloc[:N-1,:].values),\n",
    "                     columns=stocks.columns, \n",
    "                     index=stocks.iloc[1:].index)\n",
    "\n",
    "delta.head()"
   ]
  },
  {
   "cell_type": "markdown",
   "id": "d46032fa",
   "metadata": {},
   "source": [
    "## Compute novelty scores\n",
    "\n",
    "In this section, you will:\n",
    "- Plot the novelty scores over time\n",
    "- Identify which dates had the 5 highest novelty scores "
   ]
  },
  {
   "cell_type": "code",
   "execution_count": null,
   "id": "2e3f3db7",
   "metadata": {},
   "outputs": [],
   "source": [
    "# YOUR CODE HERE"
   ]
  }
 ],
 "metadata": {
  "kernelspec": {
   "display_name": "Python 3",
   "language": "python",
   "name": "python3"
  },
  "language_info": {
   "codemirror_mode": {
    "name": "ipython",
    "version": 3
   },
   "file_extension": ".py",
   "mimetype": "text/x-python",
   "name": "python",
   "nbconvert_exporter": "python",
   "pygments_lexer": "ipython3",
   "version": "3.6.15"
  }
 },
 "nbformat": 4,
 "nbformat_minor": 5
}
