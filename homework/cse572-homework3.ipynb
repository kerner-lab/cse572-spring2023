{
 "cells": [
  {
   "cell_type": "markdown",
   "id": "86abac76",
   "metadata": {},
   "source": [
    "# CSE 572: Homework 3\n",
    "\n",
    "This notebook provides a template and starting code to implement the Homework 3 assignment.\n",
    "\n",
    "To execute and make changes to this notebook, click File > Save a copy to save your own version in your Google Drive or Github. Read the step-by-step instructions below carefully. To execute the code, click on each cell below and press the SHIFT-ENTER keys simultaneously or by clicking the Play button. \n",
    "\n",
    "When you finish executing all code/exercises, save your notebook then download a copy (.ipynb file). Submit the following **three** things:\n",
    "1. a link to your Colab notebook,\n",
    "2. the .ipynb file, and\n",
    "3. a pdf of the executed notebook on Canvas.\n",
    "\n",
    "To generate a pdf of the notebook, click File > Print > Save as PDF."
   ]
  },
  {
   "cell_type": "markdown",
   "id": "60c95671",
   "metadata": {},
   "source": [
    "## Real or spurious clusters?\n",
    "\n",
    "An important question in assessing cluster validity is whether we are finding real patterns in structured data or finding patterns in noise or random data.\n",
    "\n",
    "In this homework, you are given a dataset from an unknown source with unknown attributes. You are asked to cluster the data into 3 clusters using K-means clustering. Your goal is to evaluate whether the clusters you find in the dataset represent a valid clustering.\n",
    "\n",
    "You can use any metric we have discussed in class or in the Data Mining textbook, but you must use a statistical test to evaluate validity of the clustering (refer to Lecture 19). Show all of your work and then answer the question in the final Question cell."
   ]
  },
  {
   "cell_type": "code",
   "execution_count": null,
   "id": "06fdb74a",
   "metadata": {},
   "outputs": [],
   "source": [
    "import pandas as pd\n",
    "import numpy as np\n",
    "np.random.seed(0)\n",
    "\n",
    "data = pd.read_csv('https://docs.google.com/uc?export=download&id=1CjR6Q6nMN_2pTJJietr07mRjEYYSWR7U', header=None)\n",
    "data.sample(10)"
   ]
  },
  {
   "cell_type": "code",
   "execution_count": null,
   "id": "b2c3364c",
   "metadata": {},
   "outputs": [],
   "source": [
    "# YOUR CODE HERE"
   ]
  },
  {
   "cell_type": "markdown",
   "id": "85866561",
   "metadata": {},
   "source": [
    "**Question: Is your clustering result for the given dataset valid? Explain your answer. Answers must be justified using a statistical test with the chosen cluster validity metric.**\n",
    "\n",
    "**Answer:**\n",
    "\n",
    "YOUR ANSWER HERE"
   ]
  }
 ],
 "metadata": {
  "kernelspec": {
   "display_name": "Python 3",
   "language": "python",
   "name": "python3"
  },
  "language_info": {
   "codemirror_mode": {
    "name": "ipython",
    "version": 3
   },
   "file_extension": ".py",
   "mimetype": "text/x-python",
   "name": "python",
   "nbconvert_exporter": "python",
   "pygments_lexer": "ipython3",
   "version": "3.8.8"
  }
 },
 "nbformat": 4,
 "nbformat_minor": 5
}
