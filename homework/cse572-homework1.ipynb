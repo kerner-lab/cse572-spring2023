{
 "cells": [
  {
   "cell_type": "markdown",
   "id": "86abac76",
   "metadata": {},
   "source": [
    "# CSE 572: Homework 1\n",
    "\n",
    "This notebook provides a template and starting code to implement Parts 1 and 2 of the Homework 1 assignment.\n",
    "\n",
    "To execute and make changes to this notebook, click File > Save a copy to save your own version in your Google Drive or Github. Read the step-by-step instructions below carefully. To execute the code, click on each cell below and press the SHIFT-ENTER keys simultaneously or by clicking the Play button. \n",
    "\n",
    "When you finish executing all code/exercises, save your notebook then download a copy (.ipynb file). Submit the following **two** minimum items:\n",
    "1. the .ipynb file, and\n",
    "2. a pdf of the executed notebook on Canvas.\n",
    "\n",
    "To generate a pdf of the notebook, click File > Print > Save as PDF."
   ]
  },
  {
   "cell_type": "markdown",
   "id": "60c95671",
   "metadata": {},
   "source": [
    "## Part 1: Understand your data\n",
    "\n",
    "You will use the [Census Income dataset](https://archive.ics.uci.edu/ml/datasets/Adult) for the Homework 1 assignment.\n",
    "\n",
    "The first step in a Data Mining project is to understand ins and outs of your chosen dataset. In Lecture 2, we went over 20 Questions to ask your data. Answer the questions from the Homework 1 assignment document about the provided dataset. The code below loads the dataset as a pandas dataframe. You may add any additional code needed to answer the questions in Part 1, but your answers should be written separately in a PDF as specified in the PDF instructions.\n"
   ]
  },
  {
   "cell_type": "code",
   "execution_count": null,
   "id": "29a5e8cb",
   "metadata": {},
   "outputs": [],
   "source": [
    "import pandas as pd\n",
    "import numpy as np\n",
    "\n",
    "data = pd.read_csv('https://archive.ics.uci.edu/ml/machine-learning-databases/adult/adult.data', header=None)\n",
    "data.columns = ['age', 'workclass', 'fnlwgt', 'education', 'education-num', \n",
    "                'marital-status', 'occupation', 'relationship', 'race', 'sex', \n",
    "                'capital-gain', 'capital-loss', 'hours-per-week', 'native-country',\n",
    "                'class']\n",
    "\n",
    "data = data.drop(['fnlwgt', 'education-num'], axis=1)\n",
    "\n",
    "data = data.replace(' ?', np.nan)\n",
    "\n",
    "data.sample(10)"
   ]
  },
  {
   "cell_type": "code",
   "execution_count": null,
   "id": "db452ae8",
   "metadata": {},
   "outputs": [],
   "source": [
    "data.shape"
   ]
  },
  {
   "cell_type": "code",
   "execution_count": null,
   "id": "6209c67f",
   "metadata": {},
   "outputs": [],
   "source": [
    "# YOUR CODE HERE"
   ]
  },
  {
   "cell_type": "markdown",
   "id": "680c6d90",
   "metadata": {},
   "source": [
    "## Part 2: Construct your classifier\n",
    "\n",
    "In Part 2, you will implement a classifier to predict whether an individual has high or low income based on the US Census dataset. See the Homework 1 instructions for more details. Note that Part 2 requires a separate PDF document detailing the results from your model as specified in the Homework 1 instructions.\n",
    "\n",
    "### Model Training\n",
    "\n",
    "The details of training your model will vary depending on which model you choose to implement. See the Homework 1 instructions for more details."
   ]
  },
  {
   "cell_type": "code",
   "execution_count": null,
   "id": "b0b608b1",
   "metadata": {},
   "outputs": [],
   "source": [
    "# YOUR CODE HERE"
   ]
  },
  {
   "cell_type": "markdown",
   "id": "b5f713eb",
   "metadata": {},
   "source": [
    "### Evaluation\n",
    "\n",
    "Your final model evaluation should be performed on the test set. Report the following metrics: \n",
    "- Overall accuracy\n",
    "- Precision\n",
    "- Recall\n",
    "- F1 score"
   ]
  },
  {
   "cell_type": "code",
   "execution_count": null,
   "id": "2986a2bc",
   "metadata": {},
   "outputs": [],
   "source": [
    "# YOUR CODE HERE"
   ]
  }
 ],
 "metadata": {
  "kernelspec": {
   "display_name": "Python 3 (ipykernel)",
   "language": "python",
   "name": "python3"
  },
  "language_info": {
   "codemirror_mode": {
    "name": "ipython",
    "version": 3
   },
   "file_extension": ".py",
   "mimetype": "text/x-python",
   "name": "python",
   "nbconvert_exporter": "python",
   "pygments_lexer": "ipython3",
   "version": "3.9.13"
  }
 },
 "nbformat": 4,
 "nbformat_minor": 5
}
