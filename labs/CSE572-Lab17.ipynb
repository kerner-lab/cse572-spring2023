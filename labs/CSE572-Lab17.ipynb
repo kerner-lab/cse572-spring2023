{
 "cells": [
  {
   "cell_type": "markdown",
   "metadata": {},
   "source": [
    "# CSE 572: Lab 17\n",
    "\n",
    "In this lab, you will practice measuring cluster validity with unsupervised metrics and applying clustering to a real world problem.\n",
    "\n",
    "To execute and make changes to this notebook, click File > Save a copy to save your own version in your Google Drive or Github. Read the step-by-step instructions below carefully. To execute the code, click on each cell below and press the SHIFT-ENTER keys simultaneously or by clicking the Play button. \n",
    "\n",
    "When you finish executing all code/exercises, save your notebook then download a copy (.ipynb file). Submit the following **three** things:\n",
    "1. a link to your Colab notebook,\n",
    "2. the .ipynb file, and\n",
    "3. a pdf of the executed notebook on Canvas.\n",
    "\n",
    "To generate a pdf of the notebook, click File > Print > Save as PDF."
   ]
  },
  {
   "cell_type": "markdown",
   "metadata": {},
   "source": [
    "## Scenario 🏀\n",
    "\n",
    "Your friends and family have created a contest to see who can best predict the outcome of the [NCAA Men's Basketball Tournament](https://www.ncaa.com/news/basketball-men/bracketiq/2023-03-15/what-march-madness-ncaa-tournament-explained). \n",
    "\n",
    "Being a data scientist, you want to use what you've learned in Data Mining to help you decide who you think will win in each round of the tournament.\n",
    "\n",
    "Luckily, you have access to a [dataset created by FiveThirtyEight](https://projects.fivethirtyeight.com/2023-march-madness-predictions/) that gives their predicted probability of each team winning each of the 7 rounds of the tournament, along with some other metadata about the teams.\n",
    "\n",
    "Your goal is to use clustering algorithms to determine how to group the overall win-ability of the teams. You will create multiple clusterings and use cluster validity measures to evaluate which clustering is best. You will use your final choice of clustering to determine which group of teams is most likely to lose in the first round and make it to the Championship."
   ]
  },
  {
   "cell_type": "markdown",
   "metadata": {},
   "source": [
    "### Load the dataset"
   ]
  },
  {
   "cell_type": "code",
   "execution_count": null,
   "metadata": {},
   "outputs": [],
   "source": [
    "import pandas as pd\n",
    "df = pd.read_csv('https://projects.fivethirtyeight.com/march-madness-api/2023/fivethirtyeight_ncaa_forecasts.csv')"
   ]
  },
  {
   "cell_type": "code",
   "execution_count": null,
   "metadata": {},
   "outputs": [],
   "source": [
    "df.sample(10)"
   ]
  },
  {
   "cell_type": "markdown",
   "metadata": {},
   "source": [
    "In this lab, we are only going to analyze the Men's Tournament (but you are encouraged to do another analysis on your own for the women's tournament!). Filter `df` to include only the men's teams."
   ]
  },
  {
   "cell_type": "code",
   "execution_count": null,
   "metadata": {},
   "outputs": [],
   "source": [
    "# YOUR CODE HERE"
   ]
  },
  {
   "cell_type": "code",
   "execution_count": null,
   "metadata": {},
   "outputs": [],
   "source": [
    "df.head()"
   ]
  },
  {
   "cell_type": "markdown",
   "metadata": {},
   "source": [
    "We are also going to filter `df` to include stats from the March 12 forecast date (before the tournament began) and teams that are still are alive (still in the tournament). Apply those filters below (hint: this should result in a dataframe of 68 teams)."
   ]
  },
  {
   "cell_type": "code",
   "execution_count": null,
   "metadata": {},
   "outputs": [],
   "source": [
    "df = df[(df['team_alive'] == 1) & (df['forecast_date'] == '2023-03-12')]"
   ]
  },
  {
   "cell_type": "code",
   "execution_count": null,
   "metadata": {},
   "outputs": [],
   "source": [
    "df"
   ]
  },
  {
   "cell_type": "markdown",
   "metadata": {},
   "source": [
    "We will store the team names and overall team ratings in separate dataframes to make it easy to refer to these later in our analysis."
   ]
  },
  {
   "cell_type": "code",
   "execution_count": null,
   "metadata": {},
   "outputs": [],
   "source": [
    "names = df['team_name']"
   ]
  },
  {
   "cell_type": "code",
   "execution_count": null,
   "metadata": {},
   "outputs": [],
   "source": [
    "ratings = df['team_rating']"
   ]
  },
  {
   "cell_type": "markdown",
   "metadata": {},
   "source": [
    "We don't necessarily want to use all of the columns available for our clustering. For this analysis, we will choose to use only the columns that contain win probabilities for each round: `'rd1_win', 'rd2_win', 'rd3_win', 'rd4_win', 'rd5_win', 'rd6_win', 'rd7_win'`."
   ]
  },
  {
   "cell_type": "code",
   "execution_count": null,
   "metadata": {},
   "outputs": [],
   "source": [
    "df = df[['rd1_win', 'rd2_win', 'rd3_win', 'rd4_win', 'rd5_win', 'rd6_win', 'rd7_win']]"
   ]
  },
  {
   "cell_type": "markdown",
   "metadata": {},
   "source": [
    "Before we start applying and evaluating our clustering algorithms, we might first want to try to visualize the data to see what sort of structure exists. One way to visualize our data is using a scatter plot of a pair of features, e.g., `rd1_win` and `rd7_win`. "
   ]
  },
  {
   "cell_type": "code",
   "execution_count": null,
   "metadata": {},
   "outputs": [],
   "source": [
    "df.plot.scatter('rd1_win', 'rd7_win')"
   ]
  },
  {
   "cell_type": "markdown",
   "metadata": {},
   "source": [
    "Another way to visualize our 7-dimensional dataset is by reducing the dimensionality to 2 using PCA, then plotting the scatter plot of the first two PCs. \n",
    "\n",
    "Do this in the cell below."
   ]
  },
  {
   "cell_type": "code",
   "execution_count": null,
   "metadata": {},
   "outputs": [],
   "source": [
    "# YOUR CODE HERE"
   ]
  },
  {
   "cell_type": "markdown",
   "metadata": {},
   "source": [
    "## Cluster the data\n",
    "\n",
    "We will evaluate agglomerative clustering and K-means clustering for our dataset. First, we'll use the scipy library used in Lab 16 to cluster the data using the complete link (MAX) agglomerative clustering algorithm and visualize the resulting dendrogram. This dendrogram may also be useful to visualize the dataset if the clusters respond to meaningful taxonomies.\n",
    "\n",
    "If you know anything about NCAA basketball teams already, maybe you will notice some interesting patterns in the tree!"
   ]
  },
  {
   "cell_type": "code",
   "execution_count": null,
   "metadata": {},
   "outputs": [],
   "source": [
    "from scipy.cluster import hierarchy\n",
    "\n",
    "fig, ax = plt.subplots(ncols=1, figsize=(10,10))\n",
    "Z = hierarchy.linkage(df, 'complete')\n",
    "dn = hierarchy.dendrogram(Z, labels=names.tolist(), orientation='left', ax=ax)"
   ]
  },
  {
   "cell_type": "markdown",
   "metadata": {},
   "source": [
    "Since we will use Scikit-learn for K-means clustering, we'll recreate the agglomerative clustering using Scikit-learn too below. Recall that we can create a partitional clustering from a hierarchical clustering by cutting the dendrogram at a particular level. If we cut the dendrogram at about 0.5, our clustering would have 6 clusters. We will use this number of clusters for our Scikit-learn implementation below."
   ]
  },
  {
   "cell_type": "code",
   "execution_count": null,
   "metadata": {},
   "outputs": [],
   "source": [
    "from sklearn.cluster import AgglomerativeClustering\n",
    "\n",
    "agglom = AgglomerativeClustering(n_clusters=6, linkage='complete').fit(df)\n",
    "\n",
    "# Add resulting cluster labels to dataframe\n",
    "df['Agglom clusters'] = agglom.labels_"
   ]
  },
  {
   "cell_type": "code",
   "execution_count": null,
   "metadata": {},
   "outputs": [],
   "source": [
    "df"
   ]
  },
  {
   "cell_type": "markdown",
   "metadata": {},
   "source": [
    "We will also evaluate clusterings produced by K-means. First, we need to decide how many clusters to use. In the cell below, plot the SSE as a function of number of clusters for up to 15 clusters. Set the random seed to 0 for K-means.\n",
    "\n",
    "Remember: Since you added the agglomerative clustering label as an extra column in `df`, you should ignore that column in your K-means clustering."
   ]
  },
  {
   "cell_type": "code",
   "execution_count": null,
   "metadata": {},
   "outputs": [],
   "source": [
    "# YOUR CODE HERE"
   ]
  },
  {
   "cell_type": "markdown",
   "metadata": {},
   "source": [
    "Looking at the plot above, it looks like the decrease in SSE starts to plateau after 5 or 6 clusters. \n",
    "\n",
    "In the cell below, cluster the data using K-means with 5 clusters and with 6 clusters. Set the random state to 0.\n",
    "\n",
    "Then add the resulting cluster labels for each clustering as two new columns in our dataframe `df` called `KM5 clusters` and `KM6 clusters`.  "
   ]
  },
  {
   "cell_type": "code",
   "execution_count": null,
   "metadata": {},
   "outputs": [],
   "source": [
    "# YOUR CODE HERE"
   ]
  },
  {
   "cell_type": "markdown",
   "metadata": {},
   "source": [
    "### Cluster validity\n",
    "\n",
    "Now we have 3 different clusterings that we need to evaluate. First, let's visualize the three different clusterings in our PCA visualization of the data."
   ]
  },
  {
   "cell_type": "code",
   "execution_count": null,
   "metadata": {},
   "outputs": [],
   "source": [
    "fig, ax = plt.subplots(ncols=3, figsize=(10, 3))\n",
    "fig.tight_layout()\n",
    "\n",
    "sc1 = ax[0].scatter(df_pca[:,0], df_pca[:,1], alpha=0.8, c=df['KM5 clusters'], cmap='jet')\n",
    "ax[0].legend(*sc1.legend_elements(), title='cluster ID')\n",
    "ax[0].set_title('K means (k=5)')\n",
    "\n",
    "sc2 = ax[1].scatter(df_pca[:,0], df_pca[:,1], alpha=0.8, c=df['KM6 clusters'], cmap='jet')\n",
    "ax[1].legend(*sc2.legend_elements(), title='cluster ID')\n",
    "ax[1].set_title('K means (k=6)')\n",
    "\n",
    "sc3 = ax[2].scatter(df_pca[:,0], df_pca[:,1], alpha=0.8, c=df['Agglom clusters'], cmap='jet')\n",
    "ax[2].legend(*sc3.legend_elements(), title='cluster ID')\n",
    "ax[2].set_title('Agglomerative (k=6)')"
   ]
  },
  {
   "cell_type": "markdown",
   "metadata": {},
   "source": [
    "Visually, we might have a hard time deciding which clustering is best. Remember that we aren't seeing the original data that was clustered here---this is the data in PCA space, so it may not tell us the full story.  \n",
    "\n",
    "To quantify the goodness of each clustering, we will use cluster validity metrics. We don't have ground truth classes (or classification labels), so we need to use unsupervised metrics such as Silhouette score and sum of squared errors (SSE or inertia).\n",
    "\n",
    "In the cell below, compute the silhouette score of each of the 3 clusterings. Remember to exclude the cluster labels from the data (first argument of `silhouette_score()`)."
   ]
  },
  {
   "cell_type": "code",
   "execution_count": null,
   "metadata": {},
   "outputs": [],
   "source": [
    "from sklearn.metrics import silhouette_score\n",
    "\n",
    "# YOUR CODE HERE"
   ]
  },
  {
   "cell_type": "markdown",
   "metadata": {},
   "source": [
    "**Question 1: Which clustering has the best Silhouette score?**\n",
    "\n",
    "**Answer:**\n",
    "\n",
    "YOUR ANSWER HERE"
   ]
  },
  {
   "cell_type": "markdown",
   "metadata": {},
   "source": [
    "Using the clustering with the best silhouette score, print the following for each cluster:\n",
    "- The names of the teams that were assigned to the cluster (i.e., you should print a list of names for each of the clusters)\n",
    "- The average rating of the teams that were assigned to the cluster (i.e., you should print the mean of the `team_rating` over the teams in each cluster)"
   ]
  },
  {
   "cell_type": "code",
   "execution_count": null,
   "metadata": {},
   "outputs": [],
   "source": [
    "# YOUR CODE HERE"
   ]
  },
  {
   "cell_type": "markdown",
   "metadata": {},
   "source": [
    "**Question 2: Suppose you used your clustering results to help choose teams in your own tournament bracket predictions. Since Cluster 2 had the lowest average rating, you decide that those are the teams you will predict to lose in the first round.**\n",
    "\n",
    "**Visit the [FiveThirtyEight website](https://projects.fivethirtyeight.com/2023-march-madness-predictions/) to see the current standings. How many of your teams in Cluster 2 made it to the first round and won (i.e., you were wrong about them losing in round 1)?** \n",
    "\n",
    "\n",
    "**Answer:**\n",
    "\n",
    "YOUR ANSWER HERE"
   ]
  },
  {
   "cell_type": "markdown",
   "metadata": {},
   "source": [
    "**Question 3: Only two teams will make it to the Championship game of the tournament. Using your clustering results, which two teams would you predict will make it to the Championship game?**\n",
    "\n",
    "**Answer:**\n",
    "\n",
    "YOUR ANSWER HERE"
   ]
  }
 ],
 "metadata": {
  "kernelspec": {
   "display_name": "Python 3",
   "language": "python",
   "name": "python3"
  },
  "language_info": {
   "codemirror_mode": {
    "name": "ipython",
    "version": 3
   },
   "file_extension": ".py",
   "mimetype": "text/x-python",
   "name": "python",
   "nbconvert_exporter": "python",
   "pygments_lexer": "ipython3",
   "version": "3.8.8"
  }
 },
 "nbformat": 4,
 "nbformat_minor": 1
}
